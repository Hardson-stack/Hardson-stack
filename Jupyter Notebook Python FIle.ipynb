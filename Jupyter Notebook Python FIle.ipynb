{
 "cells": [
  {
   "cell_type": "code",
   "execution_count": null,
   "id": "08dc6ec7-6974-4779-a83e-db1b2d8da184",
   "metadata": {},
   "outputs": [],
   "source": [
    "# Step 1: Import libraries\n",
    "%pip install pandas numpy\n",
    "\n",
    "import pandas as pd\n",
    "import numpy as np"
   ]
  },
  {
   "cell_type": "code",
   "execution_count": 21,
   "id": "07155a8b-8409-4d49-8f7f-dc15dffbc4d2",
   "metadata": {},
   "outputs": [],
   "source": [
    "#Step 2: Loading the Dataset\n",
    "df=pd.read_csv(\"bank-full.csv\", sep=\";\") #sep=';' tells pandas to split columns at semicolons instead of commas when reading the CSV."
   ]
  },
  {
   "cell_type": "code",
   "execution_count": 22,
   "id": "068a823c-c51a-4ac2-85fe-6eaa5e3381cf",
   "metadata": {},
   "outputs": [
    {
     "name": "stdout",
     "output_type": "stream",
     "text": [
      "  age,job,marital,education,default,balance,housing,loan,contact,day,month,duration,campaign,pdays,previous,poutcome,y\n",
      "0  58,management,married,tertiary,no,2143,yes,no,...                                                                  \n",
      "1  44,technician,single,secondary,no,29,yes,no,un...                                                                  \n",
      "2  33,entrepreneur,married,secondary,no,2,yes,yes...                                                                  \n",
      "3  47,blue-collar,married,unknown,no,1506,yes,no,...                                                                  \n",
      "4  33,unknown,single,unknown,no,1,no,no,unknown,5...                                                                  \n"
     ]
    }
   ],
   "source": [
    "# Step 3: Inspect data\n",
    "print(df.head()) #Displays first few collumns of dataset"
   ]
  },
  {
   "cell_type": "code",
   "execution_count": 23,
   "id": "e3c335e7-08a2-472c-a83a-1c8febcb49cc",
   "metadata": {},
   "outputs": [],
   "source": [
    "# Step 4: Handle missing values"
   ]
  },
  {
   "cell_type": "code",
   "execution_count": 24,
   "id": "6c6d7eb2-c62c-4bdd-8956-902b470cba92",
   "metadata": {},
   "outputs": [],
   "source": [
    "# In this dataset, missing values are usually marked as 'unknown'\n",
    "df.replace('unknown', np.nan, inplace=True)"
   ]
  },
  {
   "cell_type": "code",
   "execution_count": 25,
   "id": "afe7d0be-f63c-4c47-b158-fbe402acb94a",
   "metadata": {},
   "outputs": [
    {
     "name": "stdout",
     "output_type": "stream",
     "text": [
      "age,job,marital,education,default,balance,housing,loan,contact,day,month,duration,campaign,pdays,previous,poutcome,y    0\n",
      "dtype: int64\n"
     ]
    }
   ],
   "source": [
    "print(df.isnull().sum())  # Check missing values"
   ]
  },
  {
   "cell_type": "code",
   "execution_count": 26,
   "id": "9be13c0f-3e9a-44ae-b167-e96b51eb5217",
   "metadata": {},
   "outputs": [],
   "source": [
    "# Handle numeric columns with mean\n",
    "numeric_cols = df.select_dtypes(include='number').columns\n",
    "df[numeric_cols] = df[numeric_cols].fillna(df[numeric_cols].median())\n",
    "\n",
    "# Handle categorical columns with mode\n",
    "categorical_cols = df.select_dtypes(include='object').columns\n",
    "df[categorical_cols] = df[categorical_cols].fillna(df[categorical_cols].mode().iloc[0])\n",
    "\n"
   ]
  },
  {
   "cell_type": "code",
   "execution_count": 27,
   "id": "22e71891-b5bf-4265-982e-a7d48965c063",
   "metadata": {},
   "outputs": [
    {
     "data": {
      "text/plain": [
       "np.int64(0)"
      ]
     },
     "execution_count": 27,
     "metadata": {},
     "output_type": "execute_result"
    }
   ],
   "source": [
    "df.isnull().sum().sum() #we will check again for missing values"
   ]
  },
  {
   "cell_type": "code",
   "execution_count": 28,
   "id": "2030d987-ec61-4b9c-abb9-e6c04cd8292a",
   "metadata": {},
   "outputs": [],
   "source": [
    "# Step 5: Convert categorical columns to category data type\n",
    "for col in categorical_cols:\n",
    "    df[col] = df[col].astype('category')"
   ]
  },
  {
   "cell_type": "code",
   "execution_count": 29,
   "id": "e0e50e57-5550-44ee-bf06-414e04ac7118",
   "metadata": {},
   "outputs": [
    {
     "ename": "KeyError",
     "evalue": "'age'",
     "output_type": "error",
     "traceback": [
      "\u001b[31m---------------------------------------------------------------------------\u001b[39m",
      "\u001b[31mKeyError\u001b[39m                                  Traceback (most recent call last)",
      "\u001b[36mFile \u001b[39m\u001b[32mc:\\Users\\Chathumin induwara\\AppData\\Local\\Programs\\Python\\Python312\\Lib\\site-packages\\pandas\\core\\indexes\\base.py:3812\u001b[39m, in \u001b[36mIndex.get_loc\u001b[39m\u001b[34m(self, key)\u001b[39m\n\u001b[32m   3811\u001b[39m \u001b[38;5;28;01mtry\u001b[39;00m:\n\u001b[32m-> \u001b[39m\u001b[32m3812\u001b[39m     \u001b[38;5;28;01mreturn\u001b[39;00m \u001b[38;5;28;43mself\u001b[39;49m\u001b[43m.\u001b[49m\u001b[43m_engine\u001b[49m\u001b[43m.\u001b[49m\u001b[43mget_loc\u001b[49m\u001b[43m(\u001b[49m\u001b[43mcasted_key\u001b[49m\u001b[43m)\u001b[49m\n\u001b[32m   3813\u001b[39m \u001b[38;5;28;01mexcept\u001b[39;00m \u001b[38;5;167;01mKeyError\u001b[39;00m \u001b[38;5;28;01mas\u001b[39;00m err:\n",
      "\u001b[36mFile \u001b[39m\u001b[32mpandas/_libs/index.pyx:167\u001b[39m, in \u001b[36mpandas._libs.index.IndexEngine.get_loc\u001b[39m\u001b[34m()\u001b[39m\n",
      "\u001b[36mFile \u001b[39m\u001b[32mpandas/_libs/index.pyx:196\u001b[39m, in \u001b[36mpandas._libs.index.IndexEngine.get_loc\u001b[39m\u001b[34m()\u001b[39m\n",
      "\u001b[36mFile \u001b[39m\u001b[32mpandas/_libs/hashtable_class_helper.pxi:7088\u001b[39m, in \u001b[36mpandas._libs.hashtable.PyObjectHashTable.get_item\u001b[39m\u001b[34m()\u001b[39m\n",
      "\u001b[36mFile \u001b[39m\u001b[32mpandas/_libs/hashtable_class_helper.pxi:7096\u001b[39m, in \u001b[36mpandas._libs.hashtable.PyObjectHashTable.get_item\u001b[39m\u001b[34m()\u001b[39m\n",
      "\u001b[31mKeyError\u001b[39m: 'age'",
      "\nThe above exception was the direct cause of the following exception:\n",
      "\u001b[31mKeyError\u001b[39m                                  Traceback (most recent call last)",
      "\u001b[36mCell\u001b[39m\u001b[36m \u001b[39m\u001b[32mIn[29]\u001b[39m\u001b[32m, line 6\u001b[39m\n\u001b[32m      3\u001b[39m df = pd.read_csv(\u001b[33m\"\u001b[39m\u001b[33mbank-full.csv\u001b[39m\u001b[33m\"\u001b[39m, sep=\u001b[33m\"\u001b[39m\u001b[33m;\u001b[39m\u001b[33m\"\u001b[39m)\n\u001b[32m      5\u001b[39m \u001b[38;5;66;03m# Create age groups\u001b[39;00m\n\u001b[32m----> \u001b[39m\u001b[32m6\u001b[39m df[\u001b[33m'\u001b[39m\u001b[33mage_group\u001b[39m\u001b[33m'\u001b[39m] = pd.cut(\u001b[43mdf\u001b[49m\u001b[43m[\u001b[49m\u001b[33;43m'\u001b[39;49m\u001b[33;43mage\u001b[39;49m\u001b[33;43m'\u001b[39;49m\u001b[43m]\u001b[49m, bins=[\u001b[32m17\u001b[39m,\u001b[32m25\u001b[39m,\u001b[32m35\u001b[39m,\u001b[32m45\u001b[39m,\u001b[32m55\u001b[39m,\u001b[32m65\u001b[39m,\u001b[32m100\u001b[39m],\n\u001b[32m      7\u001b[39m                          labels=[\u001b[33m'\u001b[39m\u001b[33m18-25\u001b[39m\u001b[33m'\u001b[39m,\u001b[33m'\u001b[39m\u001b[33m26-35\u001b[39m\u001b[33m'\u001b[39m,\u001b[33m'\u001b[39m\u001b[33m36-45\u001b[39m\u001b[33m'\u001b[39m,\u001b[33m'\u001b[39m\u001b[33m46-55\u001b[39m\u001b[33m'\u001b[39m,\u001b[33m'\u001b[39m\u001b[33m56-65\u001b[39m\u001b[33m'\u001b[39m,\u001b[33m'\u001b[39m\u001b[33m65+\u001b[39m\u001b[33m'\u001b[39m])\n\u001b[32m      8\u001b[39m \u001b[38;5;66;03m# Group ages into categories like 18-25, 26-35, etc.\u001b[39;00m\n",
      "\u001b[36mFile \u001b[39m\u001b[32mc:\\Users\\Chathumin induwara\\AppData\\Local\\Programs\\Python\\Python312\\Lib\\site-packages\\pandas\\core\\frame.py:4107\u001b[39m, in \u001b[36mDataFrame.__getitem__\u001b[39m\u001b[34m(self, key)\u001b[39m\n\u001b[32m   4105\u001b[39m \u001b[38;5;28;01mif\u001b[39;00m \u001b[38;5;28mself\u001b[39m.columns.nlevels > \u001b[32m1\u001b[39m:\n\u001b[32m   4106\u001b[39m     \u001b[38;5;28;01mreturn\u001b[39;00m \u001b[38;5;28mself\u001b[39m._getitem_multilevel(key)\n\u001b[32m-> \u001b[39m\u001b[32m4107\u001b[39m indexer = \u001b[38;5;28;43mself\u001b[39;49m\u001b[43m.\u001b[49m\u001b[43mcolumns\u001b[49m\u001b[43m.\u001b[49m\u001b[43mget_loc\u001b[49m\u001b[43m(\u001b[49m\u001b[43mkey\u001b[49m\u001b[43m)\u001b[49m\n\u001b[32m   4108\u001b[39m \u001b[38;5;28;01mif\u001b[39;00m is_integer(indexer):\n\u001b[32m   4109\u001b[39m     indexer = [indexer]\n",
      "\u001b[36mFile \u001b[39m\u001b[32mc:\\Users\\Chathumin induwara\\AppData\\Local\\Programs\\Python\\Python312\\Lib\\site-packages\\pandas\\core\\indexes\\base.py:3819\u001b[39m, in \u001b[36mIndex.get_loc\u001b[39m\u001b[34m(self, key)\u001b[39m\n\u001b[32m   3814\u001b[39m     \u001b[38;5;28;01mif\u001b[39;00m \u001b[38;5;28misinstance\u001b[39m(casted_key, \u001b[38;5;28mslice\u001b[39m) \u001b[38;5;129;01mor\u001b[39;00m (\n\u001b[32m   3815\u001b[39m         \u001b[38;5;28misinstance\u001b[39m(casted_key, abc.Iterable)\n\u001b[32m   3816\u001b[39m         \u001b[38;5;129;01mand\u001b[39;00m \u001b[38;5;28many\u001b[39m(\u001b[38;5;28misinstance\u001b[39m(x, \u001b[38;5;28mslice\u001b[39m) \u001b[38;5;28;01mfor\u001b[39;00m x \u001b[38;5;129;01min\u001b[39;00m casted_key)\n\u001b[32m   3817\u001b[39m     ):\n\u001b[32m   3818\u001b[39m         \u001b[38;5;28;01mraise\u001b[39;00m InvalidIndexError(key)\n\u001b[32m-> \u001b[39m\u001b[32m3819\u001b[39m     \u001b[38;5;28;01mraise\u001b[39;00m \u001b[38;5;167;01mKeyError\u001b[39;00m(key) \u001b[38;5;28;01mfrom\u001b[39;00m\u001b[38;5;250m \u001b[39m\u001b[34;01merr\u001b[39;00m\n\u001b[32m   3820\u001b[39m \u001b[38;5;28;01mexcept\u001b[39;00m \u001b[38;5;167;01mTypeError\u001b[39;00m:\n\u001b[32m   3821\u001b[39m     \u001b[38;5;66;03m# If we have a listlike key, _check_indexing_error will raise\u001b[39;00m\n\u001b[32m   3822\u001b[39m     \u001b[38;5;66;03m#  InvalidIndexError. Otherwise we fall through and re-raise\u001b[39;00m\n\u001b[32m   3823\u001b[39m     \u001b[38;5;66;03m#  the TypeError.\u001b[39;00m\n\u001b[32m   3824\u001b[39m     \u001b[38;5;28mself\u001b[39m._check_indexing_error(key)\n",
      "\u001b[31mKeyError\u001b[39m: 'age'"
     ]
    }
   ],
   "source": [
    "# Step 6: Feature engineering\n",
    "# Re-read the CSV with correct separator and header\n",
    "df = pd.read_csv(\"bank-full.csv\", sep=\";\")\n",
    "\n",
    "# Create age groups\n",
    "df['age_group'] = pd.cut(df['age'], bins=[17,25,35,45,55,65,100],\n",
    "                         labels=['18-25','26-35','36-45','46-55','56-65','65+'])\n",
    "# Group ages into categories like 18-25, 26-35, etc."
   ]
  },
  {
   "cell_type": "code",
   "execution_count": null,
   "id": "78a06116-2804-4bb0-b89d-2fda7c3248ad",
   "metadata": {},
   "outputs": [],
   "source": [
    "# Convert target to numeric for easier analysis\n",
    "df['y_numeric'] = df['y'].apply(lambda x: 1 if x=='yes' else 0)\n",
    "# Change 'y' from yes/no to numbers (yes=1, no=0) for easier analysi"
   ]
  },
  {
   "cell_type": "code",
   "execution_count": null,
   "id": "771be984-85a2-4813-9614-b78b54e0fdff",
   "metadata": {},
   "outputs": [],
   "source": [
    "#Step 7 = Demonstrating the Use of queries to effectively summarize and group the data"
   ]
  },
  {
   "cell_type": "code",
   "execution_count": null,
   "id": "ef906358-4166-40b3-b6a8-9e62580b65ef",
   "metadata": {},
   "outputs": [
    {
     "name": "stdout",
     "output_type": "stream",
     "text": [
      "Number of customers by job:\n",
      " job\n",
      "admin.            5171\n",
      "blue-collar      10020\n",
      "entrepreneur      1487\n",
      "housemaid         1240\n",
      "management        9458\n",
      "retired           2264\n",
      "self-employed     1579\n",
      "services          4154\n",
      "student            938\n",
      "technician        7597\n",
      "unemployed        1303\n",
      "Name: y, dtype: int64\n"
     ]
    }
   ],
   "source": [
    "# Example 1: Count of customers by job\n",
    "job_counts = df.groupby('job', observed=True)['y'].count()\n",
    "print(\"Number of customers by job:\\n\", job_counts)\n"
   ]
  },
  {
   "cell_type": "code",
   "execution_count": null,
   "id": "867049b0-2f1c-4a86-9e8a-c592339cddf0",
   "metadata": {},
   "outputs": [
    {
     "name": "stdout",
     "output_type": "stream",
     "text": [
      "\n",
      "Average balance by education level:\n",
      " education\n",
      "primary      1250.949934\n",
      "secondary    1182.438525\n",
      "tertiary     1758.416435\n",
      "Name: balance, dtype: float64\n"
     ]
    }
   ],
   "source": [
    "# Example 2: Average balance by education level\n",
    "avg_balance_education = df.groupby('education', observed=True)['balance'].mean()\n",
    "print(\"\\nAverage balance by education level:\\n\", avg_balance_education)"
   ]
  },
  {
   "cell_type": "code",
   "execution_count": null,
   "id": "c117718f-2782-4f11-b3c3-4361b91bccdf",
   "metadata": {},
   "outputs": [
    {
     "name": "stdout",
     "output_type": "stream",
     "text": [
      "\n",
      "Housing loan status by marital status:\n",
      " housing      no    yes\n",
      "marital               \n",
      "divorced   2300   2907\n",
      "married   11893  15321\n",
      "single     5888   6902\n"
     ]
    }
   ],
   "source": [
    "# Example 3: Number of customers with housing loan by marital status\n",
    "housing_marital = pd.crosstab(df['marital'], df['housing'])\n",
    "print(\"\\nHousing loan status by marital status:\\n\", housing_marital)"
   ]
  },
  {
   "cell_type": "code",
   "execution_count": null,
   "id": "469aedef-ef3d-4002-beb1-675f2d89c98c",
   "metadata": {},
   "outputs": [
    {
     "name": "stdout",
     "output_type": "stream",
     "text": [
      "\n",
      "Campaign statistics by previous outcome:\n",
      "           count      mean  max\n",
      "poutcome                      \n",
      "failure   41860  2.811706   63\n",
      "other      1840  2.461413   16\n",
      "success    1511  1.806089   11\n"
     ]
    }
   ],
   "source": [
    "# Example 4: Campaign statistics by outcome\n",
    "campaign_stats = df.groupby('poutcome', observed=True)['campaign'].agg(['count', 'mean', 'max'])\n",
    "print(\"\\nCampaign statistics by previous outcome:\\n\", campaign_stats)"
   ]
  },
  {
   "cell_type": "code",
   "execution_count": null,
   "id": "2bd82c3a-69bc-4516-a63a-5346354d9934",
   "metadata": {},
   "outputs": [],
   "source": [
    "#saving the dataset\n",
    "df.to_csv(\"bank-full-cleaned_data.csv\", index=False)\n"
   ]
  },
  {
   "cell_type": "code",
   "execution_count": null,
   "id": "8b9db5e5-4214-4582-901f-1926df37d6cc",
   "metadata": {},
   "outputs": [],
   "source": []
  }
 ],
 "metadata": {
  "kernelspec": {
   "display_name": "Python 3",
   "language": "python",
   "name": "python3"
  },
  "language_info": {
   "codemirror_mode": {
    "name": "ipython",
    "version": 3
   },
   "file_extension": ".py",
   "mimetype": "text/x-python",
   "name": "python",
   "nbconvert_exporter": "python",
   "pygments_lexer": "ipython3",
   "version": "3.12.2"
  }
 },
 "nbformat": 4,
 "nbformat_minor": 5
}
