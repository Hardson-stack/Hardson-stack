{
 "cells": [
  {
   "cell_type": "code",
   "execution_count": 58,
   "id": "08dc6ec7-6974-4779-a83e-db1b2d8da184",
   "metadata": {},
   "outputs": [
    {
     "name": "stdout",
     "output_type": "stream",
     "text": [
      "Requirement already satisfied: pandas in c:\\users\\chathumin induwara\\appdata\\local\\programs\\python\\python312\\lib\\site-packages (2.3.2)\n",
      "Requirement already satisfied: numpy in c:\\users\\chathumin induwara\\appdata\\local\\programs\\python\\python312\\lib\\site-packages (2.3.3)\n",
      "Requirement already satisfied: python-dateutil>=2.8.2 in c:\\users\\chathumin induwara\\appdata\\roaming\\python\\python312\\site-packages (from pandas) (2.9.0.post0)\n",
      "Requirement already satisfied: pytz>=2020.1 in c:\\users\\chathumin induwara\\appdata\\local\\programs\\python\\python312\\lib\\site-packages (from pandas) (2025.2)\n",
      "Requirement already satisfied: tzdata>=2022.7 in c:\\users\\chathumin induwara\\appdata\\local\\programs\\python\\python312\\lib\\site-packages (from pandas) (2025.2)\n",
      "Requirement already satisfied: six>=1.5 in c:\\users\\chathumin induwara\\appdata\\roaming\\python\\python312\\site-packages (from python-dateutil>=2.8.2->pandas) (1.17.0)\n",
      "Note: you may need to restart the kernel to use updated packages.\n"
     ]
    },
    {
     "name": "stderr",
     "output_type": "stream",
     "text": [
      "\n",
      "[notice] A new release of pip is available: 24.0 -> 25.2\n",
      "[notice] To update, run: python.exe -m pip install --upgrade pip\n"
     ]
    }
   ],
   "source": [
    "# Step 1: Import libraries\n",
    "%pip install pandas numpy\n",
    "\n",
    "import pandas as pd\n",
    "import numpy as np\n",
    "\n",
    "df = pd.read_csv(r\"D:\\Assigment Tilani madam\\bank-full.csv\", sep=\";\")\n"
   ]
  },
  {
   "cell_type": "code",
   "execution_count": 59,
   "id": "07155a8b-8409-4d49-8f7f-dc15dffbc4d2",
   "metadata": {},
   "outputs": [],
   "source": [
    "#Step 2: Loading the Dataset\n",
    "df=pd.read_csv(\"bank-full.csv\", sep=\";\") #sep=';' tells pandas to split columns at semicolons instead of commas when reading the CSV."
   ]
  },
  {
   "cell_type": "code",
   "execution_count": 60,
   "id": "068a823c-c51a-4ac2-85fe-6eaa5e3381cf",
   "metadata": {},
   "outputs": [
    {
     "name": "stdout",
     "output_type": "stream",
     "text": [
      "  age,job,marital,education,default,balance,housing,loan,contact,day,month,duration,campaign,pdays,previous,poutcome,y\n",
      "0  58,management,married,tertiary,no,2143,yes,no,...                                                                  \n",
      "1  44,technician,single,secondary,no,29,yes,no,un...                                                                  \n",
      "2  33,entrepreneur,married,secondary,no,2,yes,yes...                                                                  \n",
      "3  47,blue-collar,married,unknown,no,1506,yes,no,...                                                                  \n",
      "4  33,unknown,single,unknown,no,1,no,no,unknown,5...                                                                  \n"
     ]
    }
   ],
   "source": [
    "# Step 3: Inspect data\n",
    "print(df.head()) #Displays first few collumns of dataset"
   ]
  },
  {
   "cell_type": "code",
   "execution_count": 61,
   "id": "e3c335e7-08a2-472c-a83a-1c8febcb49cc",
   "metadata": {},
   "outputs": [],
   "source": [
    "# Step 4: Handle missing values"
   ]
  },
  {
   "cell_type": "code",
   "execution_count": 62,
   "id": "6c6d7eb2-c62c-4bdd-8956-902b470cba92",
   "metadata": {},
   "outputs": [],
   "source": [
    "# In this dataset, missing values are usually marked as 'unknown'\n",
    "df.replace('unknown', np.nan, inplace=True)"
   ]
  },
  {
   "cell_type": "code",
   "execution_count": 63,
   "id": "afe7d0be-f63c-4c47-b158-fbe402acb94a",
   "metadata": {},
   "outputs": [
    {
     "name": "stdout",
     "output_type": "stream",
     "text": [
      "age,job,marital,education,default,balance,housing,loan,contact,day,month,duration,campaign,pdays,previous,poutcome,y    0\n",
      "dtype: int64\n"
     ]
    }
   ],
   "source": [
    "print(df.isnull().sum())  # Check missing values"
   ]
  },
  {
   "cell_type": "code",
   "execution_count": 64,
   "id": "9be13c0f-3e9a-44ae-b167-e96b51eb5217",
   "metadata": {},
   "outputs": [],
   "source": [
    "# Handle numeric columns with mean\n",
    "numeric_cols = df.select_dtypes(include='number').columns\n",
    "df[numeric_cols] = df[numeric_cols].fillna(df[numeric_cols].median())\n",
    "\n",
    "# Handle categorical columns with mode\n",
    "categorical_cols = df.select_dtypes(include='object').columns\n",
    "df[categorical_cols] = df[categorical_cols].fillna(df[categorical_cols].mode().iloc[0])\n",
    "\n"
   ]
  },
  {
   "cell_type": "code",
   "execution_count": 65,
   "id": "22e71891-b5bf-4265-982e-a7d48965c063",
   "metadata": {},
   "outputs": [
    {
     "data": {
      "text/plain": [
       "np.int64(0)"
      ]
     },
     "execution_count": 65,
     "metadata": {},
     "output_type": "execute_result"
    }
   ],
   "source": [
    "df.isnull().sum().sum() #we will check again for missing values"
   ]
  },
  {
   "cell_type": "code",
   "execution_count": 66,
   "id": "2030d987-ec61-4b9c-abb9-e6c04cd8292a",
   "metadata": {},
   "outputs": [],
   "source": [
    "# Step 5: Convert categorical columns to category data type\n",
    "for col in categorical_cols:\n",
    "    df[col] = df[col].astype('category')"
   ]
  },
  {
   "cell_type": "code",
   "execution_count": 67,
   "id": "e0e50e57-5550-44ee-bf06-414e04ac7118",
   "metadata": {},
   "outputs": [],
   "source": [
    "# Step 6: Feature engineering\n",
    "\n",
    "# Re-read the CSV with correct separator (comma) and header\n",
    "df = pd.read_csv(\"bank-full.csv\", sep=\",\")  # Use sep=\",\" for comma-separated values\n",
    "\n",
    "# Create age groups\n",
    "df['age_group'] = pd.cut(df['age'].astype(int), bins=[17,25,35,45,55,65,100],\n",
    "                         labels=['18-25','26-35','36-45','46-55','56-65','65+'])\n",
    "# Group ages into categories like 18-25, 26-35, etc.\n"
   ]
  },
  {
   "cell_type": "code",
   "execution_count": 68,
   "id": "78a06116-2804-4bb0-b89d-2fda7c3248ad",
   "metadata": {},
   "outputs": [],
   "source": [
    "# Convert target to numeric for easier analysis\n",
    "df['y_numeric'] = df['y'].apply(lambda x: 1 if x=='yes' else 0)\n",
    "# Change 'y' from yes/no to numbers (yes=1, no=0) for easier analysi"
   ]
  },
  {
   "cell_type": "code",
   "execution_count": 69,
   "id": "771be984-85a2-4813-9614-b78b54e0fdff",
   "metadata": {},
   "outputs": [],
   "source": [
    "#Step 7 = Demonstrating the Use of queries to effectively summarize and group the data"
   ]
  },
  {
   "cell_type": "code",
   "execution_count": 70,
   "id": "ef906358-4166-40b3-b6a8-9e62580b65ef",
   "metadata": {},
   "outputs": [
    {
     "name": "stdout",
     "output_type": "stream",
     "text": [
      "Number of customers by job:\n",
      " job\n",
      "admin.           5171\n",
      "blue-collar      9732\n",
      "entrepreneur     1487\n",
      "housemaid        1240\n",
      "management       9458\n",
      "retired          2264\n",
      "self-employed    1579\n",
      "services         4154\n",
      "student           938\n",
      "technician       7597\n",
      "unemployed       1303\n",
      "unknown           288\n",
      "Name: y, dtype: int64\n"
     ]
    }
   ],
   "source": [
    "# Example 1: Count of customers by job\n",
    "job_counts = df.groupby('job', observed=True)['y'].count()\n",
    "print(\"Number of customers by job:\\n\", job_counts)\n"
   ]
  },
  {
   "cell_type": "code",
   "execution_count": 71,
   "id": "867049b0-2f1c-4a86-9e8a-c592339cddf0",
   "metadata": {},
   "outputs": [
    {
     "name": "stdout",
     "output_type": "stream",
     "text": [
      "\n",
      "Average balance by education level:\n",
      " education\n",
      "primary      1250.949934\n",
      "secondary    1154.880786\n",
      "tertiary     1758.416435\n",
      "unknown      1526.754443\n",
      "Name: balance, dtype: float64\n"
     ]
    }
   ],
   "source": [
    "# Example 2: Average balance by education level\n",
    "avg_balance_education = df.groupby('education', observed=True)['balance'].mean()\n",
    "print(\"\\nAverage balance by education level:\\n\", avg_balance_education)"
   ]
  },
  {
   "cell_type": "code",
   "execution_count": 72,
   "id": "c117718f-2782-4f11-b3c3-4361b91bccdf",
   "metadata": {},
   "outputs": [
    {
     "name": "stdout",
     "output_type": "stream",
     "text": [
      "\n",
      "Housing loan status by marital status:\n",
      " housing      no    yes\n",
      "marital               \n",
      "divorced   2300   2907\n",
      "married   11893  15321\n",
      "single     5888   6902\n"
     ]
    }
   ],
   "source": [
    "# Example 3: Number of customers with housing loan by marital status\n",
    "housing_marital = pd.crosstab(df['marital'], df['housing'])\n",
    "print(\"\\nHousing loan status by marital status:\\n\", housing_marital)"
   ]
  },
  {
   "cell_type": "code",
   "execution_count": 73,
   "id": "469aedef-ef3d-4002-beb1-675f2d89c98c",
   "metadata": {},
   "outputs": [
    {
     "name": "stdout",
     "output_type": "stream",
     "text": [
      "\n",
      "Campaign statistics by previous outcome:\n",
      "           count      mean  max\n",
      "poutcome                      \n",
      "failure    4901  1.980820   15\n",
      "other      1840  2.461413   16\n",
      "success    1511  1.806089   11\n",
      "unknown   36959  2.921886   63\n"
     ]
    }
   ],
   "source": [
    "# Example 4: Campaign statistics by outcome\n",
    "campaign_stats = df.groupby('poutcome', observed=True)['campaign'].agg(['count', 'mean', 'max'])\n",
    "print(\"\\nCampaign statistics by previous outcome:\\n\", campaign_stats)"
   ]
  },
  {
   "cell_type": "code",
   "execution_count": 74,
   "id": "2bd82c3a-69bc-4516-a63a-5346354d9934",
   "metadata": {},
   "outputs": [],
   "source": [
    "#saving the dataset\n",
    "df.to_csv(\"bank-full-cleaned_data.csv\", index=False)\n"
   ]
  },
  {
   "cell_type": "code",
   "execution_count": null,
   "id": "8b9db5e5-4214-4582-901f-1926df37d6cc",
   "metadata": {},
   "outputs": [],
   "source": []
  }
 ],
 "metadata": {
  "kernelspec": {
   "display_name": "Python 3",
   "language": "python",
   "name": "python3"
  },
  "language_info": {
   "codemirror_mode": {
    "name": "ipython",
    "version": 3
   },
   "file_extension": ".py",
   "mimetype": "text/x-python",
   "name": "python",
   "nbconvert_exporter": "python",
   "pygments_lexer": "ipython3",
   "version": "3.12.2"
  }
 },
 "nbformat": 4,
 "nbformat_minor": 5
}
